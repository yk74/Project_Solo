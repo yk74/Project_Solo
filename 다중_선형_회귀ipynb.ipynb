{
  "nbformat": 4,
  "nbformat_minor": 0,
  "metadata": {
    "colab": {
      "name": "다중 선형 회귀ipynb",
      "provenance": [],
      "authorship_tag": "ABX9TyN+DcD9JnA9FGlbl39ma7U7"
    },
    "kernelspec": {
      "name": "python3",
      "display_name": "Python 3"
    },
    "language_info": {
      "name": "python"
    }
  },
  "cells": [
    {
      "cell_type": "code",
      "source": [
        "# 이상치 처리에 대해서 알아보아요!\n",
        "import numpy as np\n",
        "import matplotlib.pyplot as plt\n",
        "\n",
        "data = np.array([1, 2, 3, 4, 5, 6, 7, 8, 9, 10, 11, 12, 13, 14, 22.1])\n",
        "\n",
        "figure = plt.figure()\n",
        "\n",
        "ax1 = figure.add_subplot(1,2,1)\n",
        "ax2 = figure.add_subplot(1,2,2)\n",
        "\n",
        "ax1.set_title('Original Data Boxplot')\n",
        "ax1.boxplot(data)\n",
        "\n",
        "# numpy로 사분위 값을 구해서 Turkey Fence 방식으로 이상치를 판단해 보아요!\n",
        "first = np.percentile(data, 25)  # 1사분위 값을 구해요!\n",
        "third = np.percentile(data, 75)  # 3사분위 값을 구해요!\n",
        "IQR_value = third - first\n",
        "\n",
        "upper_fence = third + (IQR_value * 1.5)\n",
        "lower_fence = first - (IQR_value * 1.5)\n",
        "\n",
        "# boolean indexing을 이용해서 이상치를 추출해보아요!\n",
        "# print(data[(data > upper_fence) | (data < lower_fence)])   # array([22.1])\n",
        "# boolean indexing을 이용해서 이상치를 제거하고 나머지 데이터를 추출해요!\n",
        "result = data[(data <= upper_fence) & (data >= lower_fence)]\n",
        "ax2.boxplot(result)\n",
        "plt.show()"
      ],
      "metadata": {
        "colab": {
          "base_uri": "https://localhost:8080/",
          "height": 281
        },
        "id": "8xdahzKpW6EJ",
        "outputId": "f4977eca-22e7-42ea-bfc6-48fb20312c1e"
      },
      "execution_count": null,
      "outputs": [
        {
          "output_type": "display_data",
          "data": {
            "text/plain": [
              "<Figure size 432x288 with 2 Axes>"
            ],
            "image/png": "[encoded data removed]"
          },
          "metadata": {
            "needs_background": "light"
          }
        }
      ]
    },
    {
      "cell_type": "code",
      "source": [
        "import numpy as np\n",
        "import matplotlib.pyplot as plt\n",
        "\n",
        "data = np.array([1, 2, 3, 4, 5, 6, 7, 8, 9, 10, 11, 12, 13, 14, 22.1])\n",
        "\n",
        "mean = data.mean() # 8.473333333333333\n",
        "std = data.std()   # 5.331974826980671\n",
        "\n",
        "zscore_data = (data - mean) / std\n",
        "\n",
        "print(zscore_data)"
      ],
      "metadata": {
        "colab": {
          "base_uri": "https://localhost:8080/"
        },
        "id": "zlBc1e1mXDY_",
        "outputId": "aaeeb979-81d3-444b-decc-2b58a4b35231"
      },
      "execution_count": null,
      "outputs": [
        {
          "output_type": "stream",
          "name": "stdout",
          "text": [
            "[-1.40160702 -1.21405925 -1.02651147 -0.8389637  -0.65141593 -0.46386816\n",
            " -0.27632038 -0.08877261  0.09877516  0.28632293  0.4738707   0.66141848\n",
            "  0.84896625  1.03651402  2.55565098]\n"
          ]
        }
      ]
    },
    {
      "cell_type": "code",
      "source": [
        "# scipy는 sklearn과 유사한 통계전용 모듈\n",
        "\n",
        "from scipy import stats\n",
        "\n",
        "data = np.array([-10, 1, 2, 3, 4, 5, 6, 7, 8, 9, 10, 11, 12, 13, 14, 22.1])\n",
        "\n",
        "zscore_threshold = 2.0 # 일반적인 기준.\n",
        "\n",
        "outlier = data[np.abs(stats.zscore(data)) > zscore_threshold]\n",
        "print(outlier)\n",
        "\n",
        "data[np.isin(data, outlier, invert=True)]"
      ],
      "metadata": {
        "colab": {
          "base_uri": "https://localhost:8080/"
        },
        "id": "RspqWvxkXGiu",
        "outputId": "3bafd6ae-8334-43ea-a123-41bececd1614"
      },
      "execution_count": null,
      "outputs": [
        {
          "output_type": "stream",
          "name": "stdout",
          "text": [
            "[-10.   22.1]\n"
          ]
        },
        {
          "output_type": "execute_result",
          "data": {
            "text/plain": [
              "array([ 1.,  2.,  3.,  4.,  5.,  6.,  7.,  8.,  9., 10., 11., 12., 13.,\n",
              "       14.])"
            ]
          },
          "metadata": {},
          "execution_count": 6
        }
      ]
    },
    {
      "cell_type": "code",
      "source": [
        "### 온도에 따른 오존량 예측 ==> Python 구현\n",
        "### 결측치 처리와 이상치 처리도 같이 진행!\n",
        "\n",
        "import numpy as np\n",
        "import pandas as pd\n",
        "import matplotlib.pyplot as plt\n",
        "from scipy import stats\n",
        "\n",
        "################################################\n",
        "# 다변수 함수에 대한 수치미분을 수행하는 함수\n",
        "def numerical_derivative(f,x):    # x : ndarray [1.0  2.0]\n",
        "    \n",
        "    delta_x = 1e-4\n",
        "    derivative_x = np.zeros_like(x)   # derivative_x : [0.0  0.0]\n",
        "    \n",
        "    # iterator를 이용해서 입력변수 x에 대한 편미분을 수행!\n",
        "    it = np.nditer(x, flags=['multi_index'])\n",
        "    \n",
        "    while not it.finished:\n",
        "        \n",
        "        idx = it.multi_index \n",
        "        tmp = x[idx]              # tmp : 1.0\n",
        "        \n",
        "        x[idx] = tmp + delta_x    # x : ndarray [1.0001  2.0]\n",
        "        fx_plus_delta = f(x)\n",
        "        \n",
        "        x[idx] = tmp - delta_x    # x : ndarray [0.9999  2.0]  \n",
        "        fx_minus_delta = f(x)\n",
        "        \n",
        "        derivative_x[idx] = (fx_plus_delta - fx_minus_delta) / (2 * delta_x)\n",
        "        \n",
        "        x[idx] = tmp              #  x : ndarray [1.0  2.0]  \n",
        "        it.iternext()\n",
        "        \n",
        "    return derivative_x\n",
        "################################################\n",
        "\n",
        "# Raw Data Set Loading\n",
        "df = pd.read_csv('./data/ozone.csv')\n",
        "training_data = df[['Ozone', 'Temp']]\n",
        "\n",
        "# 데이터에 결치값이 존재해요!\n",
        "# 여기서는 결치값을 삭제할꺼예요!\n",
        "training_data.dropna(how='any',\n",
        "                     inplace=True)   # how='any' : 결치가 존재하는 행을 삭제\n",
        "\n",
        "# 데이터에 이상치가 있는지 확인하고 제거\n",
        "zscore_threshold = 2.0\n",
        "outlier = training_data['Ozone'][(np.abs(stats.zscore(training_data['Ozone'])) > zscore_threshold)]\n",
        "training_data = training_data.loc[np.isin(training_data['Ozone'],outlier, invert=True)]\n",
        "\n",
        "\n",
        "# Training Data Set\n",
        "x_data = training_data['Temp'].values.reshape(-1,1)\n",
        "t_data = training_data['Ozone'].values.reshape(-1,1)\n",
        "\n",
        "# Weight, bias\n",
        "W = np.random.rand(1,1)\n",
        "b = np.random.rand(1)\n",
        "\n",
        "# loss function\n",
        "def loss_func(input_data):\n",
        "    W = input_data[0].reshape(1,1)\n",
        "    b = input_data[1]\n",
        "    \n",
        "    y = np.dot(x_data,W) + b\n",
        "    return np.mean(np.power(t_data-y,2))\n",
        "\n",
        "# predict\n",
        "def predict(x):\n",
        "    y = np.dot(x,W) + b\n",
        "    return y\n",
        "\n",
        "# learning_rate\n",
        "learning_rate = 1e-4\n",
        "\n",
        "# 반복 학습\n",
        "for step in range(300000):\n",
        "    \n",
        "    input_param = np.concatenate((W.ravel(), b.ravel()), axis=0)  # [W b]\n",
        "    derivative_result = learning_rate * numerical_derivative(loss_func, input_param)\n",
        "\n",
        "    W = W - derivative_result[0].reshape(1,1)\n",
        "    b = b - derivative_result[1]\n",
        "    \n",
        "    if step % 30000 == 0:\n",
        "        input_param = np.concatenate((W.ravel(), b.ravel()), axis=0)\n",
        "        print('W : {}, b:{}, loss:{}'.format(W, b, loss_func(input_param)))\n"
      ],
      "metadata": {
        "colab": {
          "base_uri": "https://localhost:8080/"
        },
        "id": "rDuJaFnXXMga",
        "outputId": "b075f0d9-e488-443a-ecc2-cf3968e50c86"
      },
      "execution_count": null,
      "outputs": [
        {
          "output_type": "stream",
          "name": "stderr",
          "text": [
            "/usr/local/lib/python3.7/dist-packages/pandas/util/_decorators.py:311: SettingWithCopyWarning: \n",
            "A value is trying to be set on a copy of a slice from a DataFrame\n",
            "\n",
            "See the caveats in the documentation: https://pandas.pydata.org/pandas-docs/stable/user_guide/indexing.html#returning-a-view-versus-a-copy\n",
            "  return func(*args, **kwargs)\n"
          ]
        },
        {
          "output_type": "stream",
          "name": "stdout",
          "text": [
            "W : [[0.55614297]], b:[0.89386504], loss:523.2316692063906\n",
            "W : [[0.62397044]], b:[-9.76552105], loss:457.28633131742635\n",
            "W : [[0.74833828]], b:[-19.52807055], loss:425.4916857424748\n",
            "W : [[0.86225157]], b:[-28.46996578], loss:398.81777799251915\n",
            "W : [[0.96658915]], b:[-36.66019215], loss:376.4398793893182\n",
            "W : [[1.06215596]], b:[-44.16193606], loss:357.66608926619807\n",
            "W : [[1.14968928]], b:[-51.03307234], loss:341.9159421310811\n",
            "W : [[1.22986442]], b:[-57.3266108], loss:328.70246029547104\n",
            "W : [[1.30329992]], b:[-63.09110517], loss:317.6170970463091\n",
            "W : [[1.37056233]], b:[-68.37102767], loss:308.3171048190977\n"
          ]
        }
      ]
    },
    {
      "cell_type": "code",
      "source": [
        "# 학습종료 후 예측 (Temp : 62)\n",
        "predict_data = predict(np.array([[62]]))\n",
        "print('온도가 62일때 오존량 : {}'.format(predict_data))  # [[16.88715564]]\n",
        "                                                         # [[15.52149525]] "
      ],
      "metadata": {
        "colab": {
          "base_uri": "https://localhost:8080/"
        },
        "id": "aU9hq6WqXPUq",
        "outputId": "9d968e28-5df6-4b5e-bb3c-992a37a8af70"
      },
      "execution_count": null,
      "outputs": [
        {
          "output_type": "stream",
          "name": "stdout",
          "text": [
            "온도가 62일때 오존량 : [[15.5874947]]\n"
          ]
        }
      ]
    },
    {
      "cell_type": "code",
      "source": [
        "# 그래프로 표현해 보아요!\n",
        "plt.scatter(x_data.ravel(), t_data.ravel())\n",
        "plt.plot(x_data.ravel(), x_data.ravel()*W.ravel() + b, color='r')\n",
        "plt.show()"
      ],
      "metadata": {
        "colab": {
          "base_uri": "https://localhost:8080/",
          "height": 266
        },
        "id": "RBfJOss3XbCW",
        "outputId": "300f42aa-ec80-43d4-9c3f-19f0f68552ae"
      },
      "execution_count": null,
      "outputs": [
        {
          "output_type": "display_data",
          "data": {
            "text/plain": [
              "<Figure size 432x288 with 1 Axes>"
            ],
            "image/png": "[encoded data removed]"
          },
          "metadata": {
            "needs_background": "light"
          }
        }
      ]
    },
    {
      "cell_type": "code",
      "execution_count": null,
      "metadata": {
        "colab": {
          "base_uri": "https://localhost:8080/",
          "height": 397
        },
        "id": "Cxzw4wYKSdGS",
        "outputId": "e9129a74-4d61-40d1-b1aa-8f574f9c4844"
      },
      "outputs": [
        {
          "output_type": "stream",
          "name": "stderr",
          "text": [
            "/usr/local/lib/python3.7/dist-packages/pandas/util/_decorators.py:311: SettingWithCopyWarning: \n",
            "A value is trying to be set on a copy of a slice from a DataFrame\n",
            "\n",
            "See the caveats in the documentation: https://pandas.pydata.org/pandas-docs/stable/user_guide/indexing.html#returning-a-view-versus-a-copy\n",
            "  return func(*args, **kwargs)\n"
          ]
        },
        {
          "output_type": "stream",
          "name": "stdout",
          "text": [
            "sklearn으로 구한 온도가 62도 일때의 오존량 : [[4.51299041]]\n"
          ]
        },
        {
          "output_type": "display_data",
          "data": {
            "text/plain": [
              "<Figure size 432x288 with 1 Axes>"
            ],
            "image/png": "[encoded data removed]"
          },
          "metadata": {
            "needs_background": "light"
          }
        }
      ],
      "source": [
        "import numpy as np\n",
        "import pandas as pd\n",
        "import matplotlib.pyplot as plt\n",
        "from sklearn import linear_model\n",
        "\n",
        "df = pd.read_csv('./data/ozone.csv')\n",
        "training_data = df[['Ozone', 'Temp']]\n",
        "training_data.dropna(how='any',\n",
        "                     inplace=True)   # how='any' : 결치가 존재하는 행을 삭제\n",
        "\n",
        "# 데이터에 이상치가 있는지 확인하고 제거\n",
        "zscore_threshold = 2.0\n",
        "outlier = training_data['Ozone'][(np.abs(stats.zscore(training_data['Ozone'])) > zscore_threshold)]\n",
        "training_data = training_data.loc[np.isin(training_data['Ozone'],outlier, invert=True)]\n",
        "\n",
        "\n",
        "# Training Data Set\n",
        "x_data = training_data['Temp'].values.reshape(-1,1)\n",
        "t_data = training_data['Ozone'].values.reshape(-1,1)\n",
        "\n",
        "# model 생성\n",
        "model = linear_model.LinearRegression()\n",
        "\n",
        "# model 학습\n",
        "model.fit(x_data, t_data)\n",
        "\n",
        "# 예측\n",
        "result = model.predict(np.array([[62]]))\n",
        "print('sklearn으로 구한 온도가 62도 일때의 오존량 : {}'.format(result))  \n",
        "# [[3.58411393]]   =>  [[4.51299041]]\n",
        "\n",
        "# 그래프 표현\n",
        "plt.scatter(x_data.ravel(), t_data.ravel())\n",
        "plt.plot(x_data.ravel(), \n",
        "         x_data.ravel()*model.coef_.ravel() + model.intercept_, color='g')\n",
        "plt.show()"
      ]
    },
    {
      "cell_type": "code",
      "source": [
        "### 일단 Min-Max Scaling 작업을 어떻게 하면 되는지 알아보아요!!!\n",
        "import pandas as pd\n",
        "import seaborn as sns\n",
        "\n",
        "titanic = sns.load_dataset('titanic')\n",
        "df = titanic[['age', 'fare']]\n",
        "\n",
        "display(df.head())\n",
        "\n",
        "def min_max(s):\n",
        "    return (s - s.min()) / (s.max() - s.min())\n",
        "\n",
        "result = df.apply(min_max, axis=0)\n",
        "\n",
        "display(result.head())"
      ],
      "metadata": {
        "id": "WTsclnCgbyy-"
      },
      "execution_count": null,
      "outputs": []
    },
    {
      "cell_type": "code",
      "source": [
        "## 1. sklearn 구현 ##\n",
        "\n",
        "import numpy as np\n",
        "import pandas as pd\n",
        "import matplotlib.pyplot as plt\n",
        "from sklearn import linear_model  # LinearRegression 모델\n",
        "from scipy import stats    # 이상치 처리\n",
        "from sklearn.preprocessing import MinMaxScaler  # 정규화 처리\n",
        "\n",
        "####### 그래프 \n",
        "figure = plt.figure()\n",
        "\n",
        "python_ax = figure.add_subplot(1,2,1)\n",
        "sklearn_ax = figure.add_subplot(1,2,2)\n",
        "#######\n",
        "\n",
        "df = pd.read_csv('./data/ozone.csv')\n",
        "training_data = df.copy()\n",
        "training_data.dropna(how='any',\n",
        "                     inplace=True)   # how='any' : 결치가 존재하는 행을 삭제\n",
        "\n",
        "# 데이터에 이상치가 있는지 확인하고 제거\n",
        "zscore_threshold = 2.0\n",
        "outlier = training_data['Ozone'][(np.abs(stats.zscore(training_data['Ozone'])) > zscore_threshold)]\n",
        "training_data = training_data.loc[np.isin(training_data['Ozone'],outlier, invert=True)]\n",
        "\n",
        "# 정규화 처리를 해야 해요!\n",
        "# display(training_data.head())\n",
        "# 일단 scaler를 만들어요!\n",
        "scaler_x = MinMaxScaler()   # 온도 처리를 위한 scaler(독립변수들을 위한 scaler)\n",
        "scaler_t = MinMaxScaler()   # 오존량 처리를 위한 scaler(종속변수를 위한 scaler)\n",
        "\n",
        "scaler_x.fit(training_data['Temp'].values.reshape(-1,1))\n",
        "scaler_t.fit(training_data['Ozone'].values.reshape(-1,1))\n",
        "\n",
        "scaled_Temp = scaler_x.transform(training_data['Temp'].values.reshape(-1,1))\n",
        "scaled_Ozone = scaler_t.transform(training_data['Ozone'].values.reshape(-1,1))\n",
        "\n",
        "training_data['Temp'] = scaled_Temp\n",
        "training_data['Ozone'] = scaled_Ozone\n",
        "\n",
        "#####################################\n",
        "\n",
        "# Training Data Set\n",
        "x_data = training_data.iloc[:, 1:]\n",
        "t_data = training_data['Ozone'].values.reshape(-1,1)\n",
        "\n",
        "# Weight, bias\n",
        "W = np.random.rand(1,1)\n",
        "b = np.random.rand(1)\n",
        "\n",
        "# loss function\n",
        "def loss_func(input_data):\n",
        "    W = input_data[0].reshape(1,1)\n",
        "    b = input_data[1]\n",
        "    \n",
        "    y = np.dot(x_data,W) + b\n",
        "    return np.mean(np.power(t_data-y,2))\n",
        "\n",
        "# predict\n",
        "def predict(x):\n",
        "    y = np.dot(x,W) + b\n",
        "    return y\n",
        "\n",
        "# learning_rate\n",
        "learning_rate = 1e-4\n",
        "\n",
        "# 반복 학습\n",
        "for step in range(300000):\n",
        "    \n",
        "    input_param = np.concatenate((W.ravel(), b.ravel()), axis=0)  # [W b]\n",
        "    derivative_result = learning_rate * numerical_derivative(loss_func, input_param)\n",
        "\n",
        "    W = W - derivative_result[0].reshape(1,1)\n",
        "    b = b - derivative_result[1]\n",
        "    \n",
        "    if step % 30000 == 0:\n",
        "        input_param = np.concatenate((W.ravel(), b.ravel()), axis=0)\n",
        "        print('W : {}, b:{}, loss:{}'.format(W, b, loss_func(input_param)))"
      ],
      "metadata": {
        "colab": {
          "base_uri": "https://localhost:8080/",
          "height": 569
        },
        "id": "eFAYYUtEb7Nf",
        "outputId": "ba450285-4138-4838-bd7c-a564d19ef012"
      },
      "execution_count": null,
      "outputs": [
        {
          "output_type": "stream",
          "name": "stderr",
          "text": [
            "/usr/local/lib/python3.7/dist-packages/pandas/util/_decorators.py:311: SettingWithCopyWarning: \n",
            "A value is trying to be set on a copy of a slice from a DataFrame\n",
            "\n",
            "See the caveats in the documentation: https://pandas.pydata.org/pandas-docs/stable/user_guide/indexing.html#returning-a-view-versus-a-copy\n",
            "  return func(*args, **kwargs)\n"
          ]
        },
        {
          "output_type": "stream",
          "name": "stdout",
          "text": [
            "W : [[0.64220919]], b:[0.66199166], loss:0.41045005914912164\n",
            "W : [[0.5016858]], b:[0.12669481], loss:0.036079867773617595\n",
            "W : [[0.58804899]], b:[0.08045434], loss:0.03286257243156074\n",
            "W : [[0.65458262]], b:[0.04506031], loss:0.03095858669327292\n",
            "W : [[0.70576658]], b:[0.01783198], loss:0.0298317828393833\n",
            "W : [[0.7451421]], b:[-0.0031146], loss:0.029164925467701136\n",
            "W : [[0.77543344]], b:[-0.01922869], loss:0.02877027048615161\n",
            "W : [[0.79873639]], b:[-0.03162515], loss:0.028536708466631647\n",
            "W : [[0.81666321]], b:[-0.04116168], loss:0.028398483385199614\n",
            "W : [[0.8304542]], b:[-0.04849807], loss:0.028316679960241405\n"
          ]
        },
        {
          "output_type": "display_data",
          "data": {
            "text/plain": [
              "<Figure size 432x288 with 2 Axes>"
            ],
            "image/png": "[encoded data removed]"
          },
          "metadata": {
            "needs_background": "light"
          }
        }
      ]
    },
    {
      "cell_type": "code",
      "source": [
        "import pandas as pd\n",
        "import seaborn as sns\n",
        "\n",
        "df1 = titanic[['age', 'fare']]\n",
        "\n",
        "display(df.head())\n",
        "\n",
        "def min_max(s):\n",
        "    return (s - s.min()) / (s.max() - s.min())\n",
        "\n",
        "result = df.apply(min_max, axis=0)\n",
        "\n",
        "display(result.head())"
      ],
      "metadata": {
        "id": "6ykGUvascIlo"
      },
      "execution_count": null,
      "outputs": []
    }
  ]
}