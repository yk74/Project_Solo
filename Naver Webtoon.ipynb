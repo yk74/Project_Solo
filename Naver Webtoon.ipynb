{
 "cells": [
  {
   "cell_type": "code",
   "execution_count": 1,
   "metadata": {
    "ExecuteTime": {
     "end_time": "2021-04-01T14:55:25.040818Z",
     "start_time": "2021-04-01T14:55:16.002921Z"
    }
   },
   "outputs": [],
   "source": [
    "from urllib.request import urlopen\n",
    "from bs4 import BeautifulSoup\n",
    "import pandas as pd\n",
    "\n",
    "## 네이버 웹툰 홈페이지 주소 지정\n",
    "html=urlopen(\"https://comic.naver.com/webtoon/weekday.nhn\")\n",
    "soup=BeautifulSoup(html,'html.parser')\n",
    "\n",
    "## 추출할 클래스 지정\n",
    "X = soup.find_all(\"div\", {\"class\": \"thumb\"})"
   ]
  },
  {
   "cell_type": "code",
   "execution_count": 2,
   "metadata": {
    "ExecuteTime": {
     "end_time": "2021-04-01T14:56:27.723053Z",
     "start_time": "2021-04-01T14:56:27.663795Z"
    }
   },
   "outputs": [
    {
     "name": "stdout",
     "output_type": "stream",
     "text": [
      "['참교육', '뷰티풀 군바리', '윈드브레이커', '소녀의 세계', '장씨세가 호위무사', '파이게임', '만렙돌파', '유일무이 로맨스', '브랜든', '칼가는 소녀', '요리GO', '앵무살수', '착한건 돈이된다', '잔불의 기사', '야생천사 보호구역', '히어로메이커', '싸이코 리벤지', '오늘의 순정망화', '수영만화일기', '결혼생활 그림일기', '평범한 8반', '리턴 투 플레이어', '아는 여자애', '사장님을 잠금해제', '살아간다', '바이러스X', '선배, 그 립스틱 바르지 마요', '순정말고 순종', '마지막 지수', '황제와의 하룻밤', '백수세끼', '그림자 신부', '꿈의 기업', '서브 콤플렉스', '침범', '왕따협상', '피플', '두근두근 네가 좋아서', '와이키키 뱀파이어', '오로지 오로라', '라서드', '도플갱어의 게임', '개밥 먹는 남자', '정보전사 202', '트리거', '이탄국의 자청비', '이중첩자', '뱀파이어의 꽃', '원하는 건 너 하나', '백호랑', '여기 악마가 있어', '드로잉 레시피', '인간의 온도', '하슬라', '헬로맨스', '보살님이 캐리해!', '여신강림', '엽총소년', '바른연애 길잡이', '한림체육관', '하루만 네가 되고 싶어', '랜덤채팅의 그녀!', '사신소년', '신도림', '헬58', '호랑이 들어와요', '삼국지톡', '위아더좀비', '원주민 공포만화', '달콤살벌한 부부', '중증외상센터 : 골든 아워', '집이 없어', '악인', '오피스 누나 이야기', '하우스키퍼', '윌유메리미', '빌런투킬', '아이즈', '오늘의 순정망화', '아이레', '견우와 선녀', '태시트', '올가미', '용왕님의 셰프가 되었습니다', '성인초딩', '플레이, 플리', '3cm 헌터', '빅맨', '제로게임', '별종', '연우의 순정', '대신 심부름을 해다오', '숲속의 담', '오파츠', '열녀박씨 계약결혼뎐', '빛빛빛', '조선홍보대행사 조대박', '은주의 방 2~3부', '자판귀', '안식의 밤', '언메이크', '풋내기들', '완벽한 가족', '나의 플랏메이트', '도를 아십니까', '필살VS로맨스', '장단에 맞춰줘!', '피로만땅', '인문학적 감수성', '정년이', '고수', '전지적 독자 시점', '급식아빠', '모죠의 일지', '복학왕', '격기3반', '튜토리얼 탑의 고인물', '캐슬', '남주의 첫날밤을 가져버렸다', '하렘의 남자들', '세상은 돈과 권력', '노곤하개', '여주실격!', '일렉시드', '연놈', '원수를 사랑하라', '고삼무쌍', '나쁜사람', '닥터앤닥터 육아일기', '정순애 식당', '판타지 여동생!', '엔딩 후 서브남을 주웠다', '화산귀환', '빌드업', '미래의 골동품 가게', '마른 가지에 바람처럼', '귀곡의 문', '마녀와 용의 신혼일기', '언덕 위의 제임스', '반귀', '사상최강', '각자의 디데이', '방탈출', '아도나이', '로어 올림푸스', '새벽 두 시의 신데렐라', '범이올시다!', '이츠마인', '럭키언럭키', '더 트웰브', '얼굴천재', '말하는대로', '칼부림', '속보입니다', '당신의 향수', '뱀은 꽃을 먹는가', '인터셉트', '해귀', '스캔들', '노선도', '천도', '평화선도부', '스몰', '저승사자 출입금지', '시효완성', '수상한 비밀상담부', '기억흔적', '독립일기', '연애혁명', '더 복서', '기기괴괴', '이두나!', '나노마신', '화이트 블러드', '노답소녀', '정글쥬스', '희망강림', '하드캐리', '전자오락수호대', '무사만리행', '꽃만 키우는데 너무강함', '당신의 과녁', '마계인섬', '트롤트랩', '오늘의 순정망화', '수영만화일기', '신비', '던전 씹어먹는 아티팩트', '쿠베라', '최강전설 강해효', '선의의 경쟁', '어차피 남편은!', '만물의 영장', '그 황제가 시곗바늘을 되돌린 사연', '달의 요람', '시월드 판타지', '자취방 신선들', '루커피쳐', '별을 삼킨 너에게', '롤랑롤랑', '오일머니', '로그아웃', '성스러운 아이돌', '안개무덤', '셈하는 사이', '겟라이프', '집사레인저', '소녀180', '불릿 6미리', '유리와 유리와 유리', '스테어스', '미드나잇 체이서', '겟백', '카루나', '바른탕진 프로젝트', '보물과 괴물의 도시', '밤하늘에 구름운', '헬프미', '킬더킹', '악령주의보', '외모지상주의', '갓 오브 하이스쿨', '데드퀸', '재혼 황후', '1초', '개를 낳았다', '여성전용헬스장 진달래짐', '삼국지톡', '히어로 킬러', '환상의 용', '똑똑한 나 인증', '낙향문사전', '더 게이머', '세기말 풋사과 보습학원', '스포', '살人스타그램', '사람의 조각', '그 기사가 레이디로 사는 법', '뫼신 사냥꾼', '걸어서 30분', '플레이어', '난약', '상남자', '복학생 정순이', '구남친이 내게 반했다', '고래별', '썸내일', '가슴털 로망스', '엽사:요괴사냥꾼', '성경의 역사', 'A.I. 닥터', '금혼령-조선혼인금지령', '감자마을', '닥터 프로스트 시즌 3~4', '악몽일기', '피와 나비', '후덜덜덜 남극전자', '도롱이', '방과후 선녀', '빨리감기', '몽홀', '감히', '도무지 그애는', '꽃 피우는 남자', '구독금지', '백년게임', '트럼프', '진짜 정말 맹세코 좋아해', '나쁜 쪽으로', '버그: 스티그마', '스윗솔티', '히트포인트', '강림전기 개정기', '구주의 시간', '매지컬 메디컬', '프리드로우', '호랑이형님', '모죠의 일지', '취사병 전설이 되다', '초인의 시대', '욕망일기', '광장', '힙한남자', '노곤하개', '스터디그룹', '청춘 블라썸', '지옥급식', '민간인 통제구역', '아홉수 우리들', '토끼대왕', '나이트런', '윌유메리미', '좀비 파이트', '나를 바꿔줘', '어글리후드', '율리', '갓핑크', '탑코너', '피라미드 게임', '두번째 생일', '동트는 로맨스', '왕년엔 용사님', '단편.zip', '먹이', '남자주인공의 여자사람친구입니다', '군주', '홍시는 날 좋아해!', '광해의 연인', '아가사', '웰캄투실버라이프', '태백 : 튜토리얼 맨', '내게 필요한 NO맨스', '왕세자 입학도', '저무는 해, 시린 눈', '좋은데 어떡해', '동네몬스터', '압락사스', '팔려 온 신부', '아테나 컴플렉스', '모두 너였다', '오늘부터 천생연분', '피노키오 소녀', '후아유!', '도사 가온', '안녕, 이바다씨', '손 잡아 볼래?', '친구의 비밀계정', '꼬리 있는 연애', '아침을 지나 밤으로', '언플래시레슨', '커피도둑', '인간졸업', '먹지마세요', '누군가의 로섬', '함부로 대해줘', '어른의 계절', '독립일기', '싸움독학', '약한영웅', '열렙전사', '이번 생도 잘 부탁해', '입학용병', '맘마미안', '테러대부활', '소녀재판', '도망자', '닥터앤닥터 육아일기', '천하제일인', '나만 보여!', '곱게 키웠더니, 짐승', '오로지 너를 이기고 싶어', '사람은 고쳐 쓰는 게 아니야!', '살아남은 로맨스', '인어를 위한 수영교실', '동생친구', '행성인간', '합격시켜주세용', '마법스크롤 상인 지오', '구름이 피워낸 꽃', '가비지타임', '경비 배두만', '별이삼샵', 'AI가 세상을 지배한다면', '다이스(DICE)', '로어 올림푸스', '벚꽃이 흩날릴 무렵', '판사 이한영', '강남도깨비', '학교정벌', '평행도시', '결혼까지 망상했어!', '아르세니아의 마법사', '라일락 200%', '조선여우스캔들', '데빌샷', '오른눈이 보는 세계', '두근두근 연극부', '잉여특공대', '오늘 밤만 재워줘', '내일', '라커, 오프너', '마도', '신이 담긴 아이', '소녀 해미', '위험한 신입사원', '여름은 뜨겁다', '데이즈', '죽여주는 탐정님', '스트러글', '샤인 스타', '호시탐탐']\n"
     ]
    }
   ],
   "source": [
    "Title = []\n",
    "Site = []\n",
    "Week = []\n",
    "\n",
    "## 웹툰 제목,요일,상세페이지 추출\n",
    "for i in X:\n",
    "    title = i.img.get(\"alt\")\n",
    "    Title.append(title)\n",
    "\n",
    "for i in X:\n",
    "    site = i.a.get(\"href\")\n",
    "    week = site[-3:]\n",
    "    Week.append(week)\n",
    "    Site.append(site)\n",
    "\n",
    "print(Title)"
   ]
  },
  {
   "cell_type": "code",
   "execution_count": 3,
   "metadata": {
    "ExecuteTime": {
     "end_time": "2021-04-01T14:56:34.820621Z",
     "start_time": "2021-04-01T14:56:34.813913Z"
    }
   },
   "outputs": [
    {
     "name": "stdout",
     "output_type": "stream",
     "text": [
      "['mon', 'mon', 'mon', 'mon', 'mon', 'mon', 'mon', 'mon', 'mon', 'mon', 'mon', 'mon', 'mon', 'mon', 'mon', 'mon', 'mon', 'mon', 'mon', 'mon', 'mon', 'mon', 'mon', 'mon', 'mon', 'mon', 'mon', 'mon', 'mon', 'mon', 'mon', 'mon', 'mon', 'mon', 'mon', 'mon', 'mon', 'mon', 'mon', 'mon', 'mon', 'mon', 'mon', 'mon', 'mon', 'mon', 'mon', 'mon', 'mon', 'mon', 'mon', 'mon', 'mon', 'mon', 'mon', 'mon', 'tue', 'tue', 'tue', 'tue', 'tue', 'tue', 'tue', 'tue', 'tue', 'tue', 'tue', 'tue', 'tue', 'tue', 'tue', 'tue', 'tue', 'tue', 'tue', 'tue', 'tue', 'tue', 'tue', 'tue', 'tue', 'tue', 'tue', 'tue', 'tue', 'tue', 'tue', 'tue', 'tue', 'tue', 'tue', 'tue', 'tue', 'tue', 'tue', 'tue', 'tue', 'tue', 'tue', 'tue', 'tue', 'tue', 'tue', 'tue', 'tue', 'tue', 'tue', 'tue', 'tue', 'tue', 'wed', 'wed', 'wed', 'wed', 'wed', 'wed', 'wed', 'wed', 'wed', 'wed', 'wed', 'wed', 'wed', 'wed', 'wed', 'wed', 'wed', 'wed', 'wed', 'wed', 'wed', 'wed', 'wed', 'wed', 'wed', 'wed', 'wed', 'wed', 'wed', 'wed', 'wed', 'wed', 'wed', 'wed', 'wed', 'wed', 'wed', 'wed', 'wed', 'wed', 'wed', 'wed', 'wed', 'wed', 'wed', 'wed', 'wed', 'wed', 'wed', 'wed', 'wed', 'wed', 'wed', 'wed', 'wed', 'wed', 'wed', 'thu', 'thu', 'thu', 'thu', 'thu', 'thu', 'thu', 'thu', 'thu', 'thu', 'thu', 'thu', 'thu', 'thu', 'thu', 'thu', 'thu', 'thu', 'thu', 'thu', 'thu', 'thu', 'thu', 'thu', 'thu', 'thu', 'thu', 'thu', 'thu', 'thu', 'thu', 'thu', 'thu', 'thu', 'thu', 'thu', 'thu', 'thu', 'thu', 'thu', 'thu', 'thu', 'thu', 'thu', 'thu', 'thu', 'thu', 'thu', 'thu', 'thu', 'thu', 'thu', 'thu', 'fri', 'fri', 'fri', 'fri', 'fri', 'fri', 'fri', 'fri', 'fri', 'fri', 'fri', 'fri', 'fri', 'fri', 'fri', 'fri', 'fri', 'fri', 'fri', 'fri', 'fri', 'fri', 'fri', 'fri', 'fri', 'fri', 'fri', 'fri', 'fri', 'fri', 'fri', 'fri', 'fri', 'fri', 'fri', 'fri', 'fri', 'fri', 'fri', 'fri', 'fri', 'fri', 'fri', 'fri', 'fri', 'fri', 'fri', 'fri', 'fri', 'fri', 'fri', 'fri', 'fri', 'fri', 'fri', 'sat', 'sat', 'sat', 'sat', 'sat', 'sat', 'sat', 'sat', 'sat', 'sat', 'sat', 'sat', 'sat', 'sat', 'sat', 'sat', 'sat', 'sat', 'sat', 'sat', 'sat', 'sat', 'sat', 'sat', 'sat', 'sat', 'sat', 'sat', 'sat', 'sat', 'sat', 'sat', 'sat', 'sat', 'sat', 'sat', 'sat', 'sat', 'sat', 'sat', 'sat', 'sat', 'sat', 'sat', 'sat', 'sat', 'sat', 'sat', 'sat', 'sat', 'sat', 'sat', 'sat', 'sat', 'sat', 'sat', 'sat', 'sat', 'sat', 'sat', 'sat', 'sun', 'sun', 'sun', 'sun', 'sun', 'sun', 'sun', 'sun', 'sun', 'sun', 'sun', 'sun', 'sun', 'sun', 'sun', 'sun', 'sun', 'sun', 'sun', 'sun', 'sun', 'sun', 'sun', 'sun', 'sun', 'sun', 'sun', 'sun', 'sun', 'sun', 'sun', 'sun', 'sun', 'sun', 'sun', 'sun', 'sun', 'sun', 'sun', 'sun', 'sun', 'sun', 'sun', 'sun', 'sun', 'sun', 'sun', 'sun', 'sun', 'sun', 'sun', 'sun', 'sun', 'sun', 'sun']\n"
     ]
    }
   ],
   "source": [
    "print(Week)"
   ]
  },
  {
   "cell_type": "code",
   "execution_count": 4,
   "metadata": {
    "ExecuteTime": {
     "end_time": "2021-04-01T14:56:38.679619Z",
     "start_time": "2021-04-01T14:56:38.671770Z"
    }
   },
   "outputs": [
    {
     "name": "stdout",
     "output_type": "stream",
     "text": [
      "391\n",
      "391\n"
     ]
    }
   ],
   "source": [
    "## 웹툰 제목과 요일 개수 일치하는지 확인\n",
    "print(len(Week))\n",
    "print(len(Title))"
   ]
  },
  {
   "cell_type": "code",
   "execution_count": 5,
   "metadata": {
    "ExecuteTime": {
     "end_time": "2021-04-01T14:56:42.162760Z",
     "start_time": "2021-04-01T14:56:42.142746Z"
    }
   },
   "outputs": [],
   "source": [
    "## 요일별 웹툰 리스트 생성\n",
    "Title_1=[]\n",
    "Title_2=[]\n",
    "Title_3=[]\n",
    "Title_4=[]\n",
    "Title_5=[]\n",
    "Title_6=[]\n",
    "Title_7=[]\n",
    "\n",
    "## 웹툰 요일별 분류\n",
    "for i in range(len(Week)): \n",
    "    x=Title[i]\n",
    "    if Week[i] == 'mon':                           \n",
    "        Title_1.append(x)\n",
    "    elif Week[i] == 'tue':                        \n",
    "        Title_2.append(x)\n",
    "    elif Week[i] == 'wed':                         \n",
    "        Title_3.append(x)\n",
    "    elif Week[i] == 'thu':                       \n",
    "        Title_4.append(x)\n",
    "    elif Week[i] == 'fri':                      \n",
    "        Title_5.append(x)\n",
    "    elif Week[i] == 'sat':                      \n",
    "        Title_6.append(x)\n",
    "    else :\n",
    "        Title_7.append(x)"
   ]
  },
  {
   "cell_type": "code",
   "execution_count": 6,
   "metadata": {
    "ExecuteTime": {
     "end_time": "2021-04-01T14:56:46.433453Z",
     "start_time": "2021-04-01T14:56:46.400942Z"
    },
    "scrolled": true
   },
   "outputs": [
    {
     "data": {
      "text/plain": [
       "['고수',\n",
       " '전지적 독자 시점',\n",
       " '급식아빠',\n",
       " '모죠의 일지',\n",
       " '복학왕',\n",
       " '격기3반',\n",
       " '튜토리얼 탑의 고인물',\n",
       " '캐슬',\n",
       " '남주의 첫날밤을 가져버렸다',\n",
       " '하렘의 남자들',\n",
       " '세상은 돈과 권력',\n",
       " '노곤하개',\n",
       " '여주실격!',\n",
       " '일렉시드',\n",
       " '연놈',\n",
       " '원수를 사랑하라',\n",
       " '고삼무쌍',\n",
       " '나쁜사람',\n",
       " '닥터앤닥터 육아일기',\n",
       " '정순애 식당',\n",
       " '판타지 여동생!',\n",
       " '엔딩 후 서브남을 주웠다',\n",
       " '화산귀환',\n",
       " '빌드업',\n",
       " '미래의 골동품 가게',\n",
       " '마른 가지에 바람처럼',\n",
       " '귀곡의 문',\n",
       " '마녀와 용의 신혼일기',\n",
       " '언덕 위의 제임스',\n",
       " '반귀',\n",
       " '사상최강',\n",
       " '각자의 디데이',\n",
       " '방탈출',\n",
       " '아도나이',\n",
       " '로어 올림푸스',\n",
       " '새벽 두 시의 신데렐라',\n",
       " '범이올시다!',\n",
       " '이츠마인',\n",
       " '럭키언럭키',\n",
       " '더 트웰브',\n",
       " '얼굴천재',\n",
       " '말하는대로',\n",
       " '칼부림',\n",
       " '속보입니다',\n",
       " '당신의 향수',\n",
       " '뱀은 꽃을 먹는가',\n",
       " '인터셉트',\n",
       " '해귀',\n",
       " '스캔들',\n",
       " '노선도',\n",
       " '천도',\n",
       " '평화선도부',\n",
       " '스몰',\n",
       " '저승사자 출입금지',\n",
       " '시효완성',\n",
       " '수상한 비밀상담부',\n",
       " '기억흔적']"
      ]
     },
     "execution_count": 6,
     "metadata": {},
     "output_type": "execute_result"
    }
   ],
   "source": [
    "## 요일별 웹툰 분류 확인\n",
    "Title_3"
   ]
  },
  {
   "cell_type": "code",
   "execution_count": 7,
   "metadata": {
    "ExecuteTime": {
     "end_time": "2021-04-01T15:02:48.977413Z",
     "start_time": "2021-04-01T14:56:51.474539Z"
    }
   },
   "outputs": [
    {
     "name": "stdout",
     "output_type": "stream",
     "text": [
      "['스토리, 액션', '스토리, 드라마', '스토리, 스포츠', '스토리, 드라마', '스토리, 시대극', '스토리, 스릴러', '스토리, 판타지', '스토리, 로맨스', '스토리, 드라마', '에피소드, 드라마', '스토리, 드라마', '스토리, 판타지', '스토리, 드라마', '스토리, 판타지', '스토리, 로맨스', '옴니버스, 판타지', '스토리, 액션', '에피소드, 개그', '에피소드, 일상', '옴니버스, 일상', '스토리, 드라마', '스토리, 판타지', '스토리, 로맨스', '스토리, 개그', '스토리, 액션', '스토리, 스릴러', '스토리, 로맨스', '스토리, 로맨스', '스토리, 로맨스', '스토리, 로맨스', '스토리, 드라마', '스토리, 로맨스', '스토리, 스릴러', '에피소드, 로맨스', '스토리, 스릴러', '스토리, 드라마', '스토리, 드라마', '스토리, 로맨스', '스토리, 드라마', '스토리, 판타지', '스토리, 판타지', '스토리, 스릴러', '스토리, 판타지', '스토리, 액션', '스토리, 판타지', '스토리, 로맨스', '스토리, 드라마', '스토리, 로맨스', '스토리, 로맨스', '스토리, 판타지', '스토리, 드라마', '스토리, 감성', '스토리, 드라마', '스토리, 액션', '스토리, 로맨스', '스토리, 액션', '스토리, 로맨스', '스토리, 스릴러', '스토리, 로맨스', '에피소드, 액션', '스토리, 판타지', '스토리, 드라마', '스토리, 액션', '스토리, 액션', '스토리, 액션', '에피소드, 판타지', '에피소드, 시대극', '스토리, 드라마', '스토리, 스릴러', '스토리, 로맨스', '스토리, 드라마', '스토리, 드라마', '스토리, 스릴러', '스토리, 로맨스', '스토리, 판타지', '에피소드, 일상', '스토리, 판타지', '스토리, 액션', '에피소드, 개그', '스토리, 판타지', '스토리, 드라마', '스토리, 액션', '스토리, 드라마', '스토리, 판타지', '스토리, 드라마', '스토리, 로맨스', '스토리, 판타지', '스토리, 스포츠', '스토리, 판타지', '스토리, 드라마', '스토리, 감성', '스토리, 드라마', '스토리, 감성', '스토리, 판타지', '스토리, 로맨스', '스토리, 로맨스', '스토리, 개그', '스토리, 드라마', '에피소드, 스릴러', '스토리, 스릴러', '스토리, 판타지', '스토리, 로맨스', '스토리, 스릴러', '스토리, 드라마', '스토리, 판타지', '스토리, 개그', '스토리, 로맨스', '에피소드, 개그', '스토리, 드라마', '스토리, 드라마', '스토리, 판타지', '스토리, 판타지', '스토리, 액션', '에피소드, 개그', '스토리, 드라마', '스토리, 스포츠', '스토리, 액션', '스토리, 드라마', '스토리, 로맨스', '스토리, 로맨스', '에피소드, 드라마', '에피소드, 일상', '스토리, 드라마', '스토리, 액션', '스토리, 드라마', '스토리, 로맨스', '스토리, 액션', '에피소드, 개그', '에피소드, 일상', '스토리, 드라마', '스토리, 판타지', '스토리, 로맨스', '스토리, 액션', '스토리, 스포츠', '스토리, 스릴러', '스토리, 로맨스', '스토리, 드라마', '스토리, 로맨스', '에피소드, 개그', '스토리, 로맨스', '스토리, 판타지', '스토리, 로맨스', '스토리, 스릴러', '스토리, 스릴러', '스토리, 로맨스', '스토리, 로맨스', '에피소드, 일상', '스토리, 스릴러', '스토리, 판타지', '스토리, 스릴러', '스토리, 드라마', '스토리, 드라마', '스토리, 시대극', '스토리, 로맨스', '옴니버스, 드라마', '스토리, 로맨스', '에피소드, 로맨스', '스토리, 판타지', '스토리, 로맨스', '스토리, 스릴러', '스토리, 판타지', '스토리, 액션', '스토리, 로맨스', '스토리, 드라마', '스토리, 드라마', '에피소드, 스릴러', '스토리, 스릴러', '에피소드, 일상', '스토리, 드라마', '스토리, 액션', '옴니버스, 스릴러', '스토리, 로맨스', '스토리, 판타지', '스토리, 판타지', '스토리, 로맨스', '스토리, 액션', '스토리, 로맨스', '스토리, 드라마', '스토리, 판타지', '스토리, 액션', '스토리, 판타지', '스토리, 드라마', '스토리, 판타지', '스토리, 판타지', '에피소드, 개그', '에피소드, 일상', '스토리, 로맨스', '스토리, 판타지', '스토리, 판타지', '스토리, 액션', '스토리, 드라마', '스토리, 로맨스', '에피소드, 개그', '스토리, 로맨스', '스토리, 드라마', '스토리, 판타지', '스토리, 드라마', '스토리, 로맨스', '스토리, 로맨스', '스토리, 판타지', '스토리, 드라마', '옴니버스, 스릴러', '스토리, 드라마', '스토리, 스릴러', '스토리, 로맨스', '스토리, 판타지', '스토리, 액션', '스토리, 드라마', '스토리, 스포츠', '스토리, 로맨스', '스토리, 판타지', '스토리, 스포츠', '에피소드, 드라마', '스토리, 판타지', '에피소드, 드라마', '스토리, 판타지', '스토리, 로맨스', '에피소드, 스릴러', '스토리, 드라마', '스토리, 액션', '스토리, 드라마', '스토리, 판타지', '스토리, 판타지', '스토리, 로맨스', '스토리, 드라마', '스토리, 드라마', '스토리, 드라마', '에피소드, 시대극', '스토리, 액션', '에피소드, 드라마', '옴니버스, 일상', '스토리, 판타지', '스토리, 판타지', '스토리, 로맨스', '스토리, 스릴러', '옴니버스, 스릴러', '스토리, 스릴러', '스토리, 판타지', '스토리, 판타지', '스토리, 로맨스', '스토리, 액션', '스토리, 판타지', '스토리, 액션', '스토리, 드라마', '스토리, 로맨스', '스토리, 로맨스', '스토리, 드라마', '스토리, 개그', '스토리, 액션', '스토리, 드라마', '스토리, 드라마', '스토리, 로맨스', '스토리, 개그', '스토리, 드라마', '옴니버스, 스릴러', '스토리, 판타지', '옴니버스, 개그', '스토리, 드라마', '스토리, 드라마', '스토리, 스릴러', '스토리, 시대극', '스토리, 스릴러', '스토리, 드라마', '스토리, 로맨스', '스토리, 스릴러', '스토리, 판타지', '스토리, 판타지', '에피소드, 로맨스', '스토리, 드라마', '스토리, 판타지', '스토리, 드라마', '스토리, 판타지', '에피소드, 액션', '스토리, 드라마', '스토리, 드라마', '스토리, 드라마', '스토리, 판타지', '에피소드, 개그', '스토리, 판타지', '스토리, 액션', '옴니버스, 스릴러', '스토리, 액션', '스토리, 로맨스', '에피소드, 일상', '스토리, 액션', '옴니버스, 로맨스', '에피소드, 액션', '스토리, 스릴러', '스토리, 로맨스', '스토리, 스릴러', '스토리, 판타지', '에피소드, 일상', '스토리, 액션', '스토리, 드라마', '스토리, 판타지', '스토리, 드라마', '스토리, 판타지', '스토리, 스포츠', '스토리, 스릴러', '스토리, 스릴러', '스토리, 로맨스', '스토리, 판타지', '옴니버스, 드라마', '옴니버스, 스릴러', '스토리, 로맨스', '스토리, 스포츠', '에피소드, 로맨스', '스토리, 로맨스', '스토리, 드라마', '에피소드, 일상', '스토리, 판타지', '스토리, 로맨스', '스토리, 드라마', '스토리, 드라마', '스토리, 로맨스', '스토리, 액션', '스토리, 스릴러', '스토리, 로맨스', '스토리, 판타지', '스토리, 로맨스', '스토리, 로맨스', '스토리, 스릴러', '스토리, 로맨스', '스토리, 판타지', '스토리, 로맨스', '스토리, 로맨스', '스토리, 드라마', '스토리, 로맨스', '스토리, 판타지', '스토리, 판타지', '스토리, 판타지', '스토리, 드라마', '스토리, 판타지', '스토리, 드라마', '스토리, 로맨스', '에피소드, 드라마', '에피소드, 일상', '스토리, 액션', '에피소드, 액션', '스토리, 판타지', '스토리, 로맨스', '스토리, 액션', '스토리, 드라마', '스토리, 액션', '스토리, 드라마', '스토리, 판타지', '에피소드, 일상', '스토리, 액션', '스토리, 판타지', '에피소드, 드라마', '에피소드, 로맨스', '스토리, 판타지', '스토리, 판타지', '스토리, 로맨스', '스토리, 로맨스', '스토리, 스릴러', '스토리, 판타지', '스토리, 판타지', '스토리, 로맨스', '스토리, 스포츠', '스토리, 액션', '스토리, 드라마', '옴니버스, 판타지', '스토리, 판타지', '스토리, 로맨스', '스토리, 드라마', '스토리, 드라마', '스토리, 판타지', '스토리, 판타지', '스토리, 판타지', '스토리, 로맨스', '스토리, 판타지', '스토리, 로맨스', '스토리, 로맨스', '스토리, 판타지', '스토리, 판타지', '스토리, 로맨스', '스토리, 판타지', '스토리, 로맨스', '옴니버스, 드라마', '스토리, 판타지', '스토리, 판타지', '스토리, 판타지', '스토리, 스릴러', '스토리, 로맨스', '스토리, 드라마', '스토리, 스릴러', '스토리, 스릴러', '스토리, 액션', '스토리, 로맨스', '스토리, 로맨스']\n"
     ]
    }
   ],
   "source": [
    "from selenium import webdriver  \n",
    "from selenium.webdriver.common.keys import Keys\n",
    "\n",
    "# url='https://comic.naver.com/webtoon/weekday.nhn'\n",
    "url = \"https://comic.naver.com\"\n",
    "driver=webdriver.Chrome('C:/chromedriver.exe')\n",
    "\n",
    "Genre = []\n",
    "\n",
    "## 웹툰별 상세페이지에서 장르 추출\n",
    "for i in range(len(Title)):\n",
    "    link = url + Site[i]\n",
    "    driver.get(link)\n",
    "    \n",
    "    html = driver.page_source\n",
    "    soup = BeautifulSoup(html,'html.parser')\n",
    "\n",
    "    genre = soup.find(\"span\",{\"class\":\"genre\"}).text\n",
    "    Genre.append(genre)\n",
    "\n",
    "print(Genre)"
   ]
  },
  {
   "cell_type": "code",
   "execution_count": 9,
   "metadata": {
    "ExecuteTime": {
     "end_time": "2021-04-01T15:04:47.092821Z",
     "start_time": "2021-04-01T15:04:47.083894Z"
    }
   },
   "outputs": [
    {
     "data": {
      "text/plain": [
       "391"
      ]
     },
     "execution_count": 9,
     "metadata": {},
     "output_type": "execute_result"
    }
   ],
   "source": [
    "## 장르 개수 확인\n",
    "len(Genre)"
   ]
  },
  {
   "cell_type": "code",
   "execution_count": 10,
   "metadata": {
    "ExecuteTime": {
     "end_time": "2021-04-01T15:04:49.780855Z",
     "start_time": "2021-04-01T15:04:49.757954Z"
    }
   },
   "outputs": [],
   "source": [
    "## 요일별 장르 리스트 생성\n",
    "Genre_1=[]\n",
    "Genre_2=[]\n",
    "Genre_3=[]\n",
    "Genre_4=[]\n",
    "Genre_5=[]\n",
    "Genre_6=[]\n",
    "Genre_7=[]\n",
    "\n",
    "## 장르 요일별 분류\n",
    "for i in range(len(Genre)): \n",
    "    x=Genre[i]\n",
    "    if Week[i] == 'mon':                           \n",
    "        Genre_1.append(x)\n",
    "    elif Week[i] == 'tue':                        \n",
    "        Genre_2.append(x)\n",
    "    elif Week[i] == 'wed':                         \n",
    "        Genre_3.append(x)\n",
    "    elif Week[i] == 'thu':                       \n",
    "        Genre_4.append(x)\n",
    "    elif Week[i] == 'fri':                      \n",
    "        Genre_5.append(x)\n",
    "    elif Week[i] == 'sat':                      \n",
    "        Genre_6.append(x)\n",
    "    else :\n",
    "        Genre_7.append(x)"
   ]
  },
  {
   "cell_type": "code",
   "execution_count": 11,
   "metadata": {
    "ExecuteTime": {
     "end_time": "2021-04-01T15:04:52.912241Z",
     "start_time": "2021-04-01T15:04:52.893030Z"
    },
    "scrolled": true
   },
   "outputs": [
    {
     "name": "stdout",
     "output_type": "stream",
     "text": [
      "55\n",
      "55\n"
     ]
    }
   ],
   "source": [
    "## 요일별 웹툰 장르와 제목 개수 확인\n",
    "print(len(Genre_7))\n",
    "print(len(Title_7))"
   ]
  },
  {
   "cell_type": "code",
   "execution_count": 12,
   "metadata": {
    "ExecuteTime": {
     "end_time": "2021-04-01T15:04:54.200767Z",
     "start_time": "2021-04-01T15:04:54.185928Z"
    }
   },
   "outputs": [
    {
     "name": "stdout",
     "output_type": "stream",
     "text": [
      "[55, 54, 53, 52, 51, 50, 49, 48, 47, 46, 45, 44, 43, 42, 41, 40, 39, 38, 37, 36, 35, 34, 33, 32, 31, 30, 29, 28, 27, 26, 25, 24, 23, 22, 21, 20, 19, 18, 17, 16, 15, 14, 13, 12, 11, 10, 9, 8, 7, 6, 5, 4, 3, 2, 1]\n"
     ]
    }
   ],
   "source": [
    "## 요일별 점수 리스트 생성\n",
    "Score_1=[]\n",
    "Score_2=[]\n",
    "Score_3=[]\n",
    "Score_4=[]\n",
    "Score_5=[]\n",
    "Score_6=[]\n",
    "Score_7=[]\n",
    "\n",
    "## 인기 순위에 따라 점수 부여 - 1위:n점 ~ n위:1점\n",
    "for i in range(len(Genre_1),0,-1):\n",
    "    Score_1.append(i)\n",
    "for i in range(len(Genre_2),0,-1):\n",
    "    Score_2.append(i)\n",
    "for i in range(len(Genre_3),0,-1):\n",
    "    Score_3.append(i)\n",
    "for i in range(len(Genre_4),0,-1):\n",
    "    Score_4.append(i)\n",
    "for i in range(len(Genre_5),0,-1):\n",
    "    Score_5.append(i)\n",
    "for i in range(len(Genre_6),0,-1):\n",
    "    Score_6.append(i)\n",
    "for i in range(len(Genre_7),0,-1):\n",
    "    Score_7.append(i)\n",
    "        \n",
    "print(Score_7)"
   ]
  },
  {
   "cell_type": "code",
   "execution_count": 13,
   "metadata": {
    "ExecuteTime": {
     "end_time": "2021-04-01T15:04:57.148680Z",
     "start_time": "2021-04-01T15:04:57.141239Z"
    }
   },
   "outputs": [],
   "source": [
    "## 계산작업이 끝난 데이터 다시 병합\n",
    "G = Genre_1 + Genre_2 + Genre_3 + Genre_4 + Genre_5 + Genre_6 + Genre_7\n",
    "S = Score_1 + Score_2 + Score_3 + Score_4 + Score_5 + Score_6 + Score_7"
   ]
  },
  {
   "cell_type": "code",
   "execution_count": 14,
   "metadata": {
    "ExecuteTime": {
     "end_time": "2021-04-01T15:05:00.159797Z",
     "start_time": "2021-04-01T15:05:00.141364Z"
    }
   },
   "outputs": [],
   "source": [
    "## 데이터프레임 생성\n",
    "df_G = pd.DataFrame(G,columns=['장르'])\n",
    "df_S = pd.DataFrame(S,columns=['점수'])"
   ]
  },
  {
   "cell_type": "code",
   "execution_count": 15,
   "metadata": {
    "ExecuteTime": {
     "end_time": "2021-04-01T15:05:02.547070Z",
     "start_time": "2021-04-01T15:05:02.514345Z"
    }
   },
   "outputs": [
    {
     "data": {
      "text/html": [
       "<div>\n",
       "<style scoped>\n",
       "    .dataframe tbody tr th:only-of-type {\n",
       "        vertical-align: middle;\n",
       "    }\n",
       "\n",
       "    .dataframe tbody tr th {\n",
       "        vertical-align: top;\n",
       "    }\n",
       "\n",
       "    .dataframe thead th {\n",
       "        text-align: right;\n",
       "    }\n",
       "</style>\n",
       "<table border=\"1\" class=\"dataframe\">\n",
       "  <thead>\n",
       "    <tr style=\"text-align: right;\">\n",
       "      <th></th>\n",
       "      <th>장르</th>\n",
       "      <th>점수</th>\n",
       "    </tr>\n",
       "  </thead>\n",
       "  <tbody>\n",
       "    <tr>\n",
       "      <th>0</th>\n",
       "      <td>스토리, 액션</td>\n",
       "      <td>56</td>\n",
       "    </tr>\n",
       "    <tr>\n",
       "      <th>1</th>\n",
       "      <td>스토리, 드라마</td>\n",
       "      <td>55</td>\n",
       "    </tr>\n",
       "    <tr>\n",
       "      <th>2</th>\n",
       "      <td>스토리, 스포츠</td>\n",
       "      <td>54</td>\n",
       "    </tr>\n",
       "    <tr>\n",
       "      <th>3</th>\n",
       "      <td>스토리, 드라마</td>\n",
       "      <td>53</td>\n",
       "    </tr>\n",
       "    <tr>\n",
       "      <th>4</th>\n",
       "      <td>스토리, 시대극</td>\n",
       "      <td>52</td>\n",
       "    </tr>\n",
       "    <tr>\n",
       "      <th>5</th>\n",
       "      <td>스토리, 스릴러</td>\n",
       "      <td>51</td>\n",
       "    </tr>\n",
       "    <tr>\n",
       "      <th>6</th>\n",
       "      <td>스토리, 판타지</td>\n",
       "      <td>50</td>\n",
       "    </tr>\n",
       "    <tr>\n",
       "      <th>7</th>\n",
       "      <td>스토리, 로맨스</td>\n",
       "      <td>49</td>\n",
       "    </tr>\n",
       "    <tr>\n",
       "      <th>8</th>\n",
       "      <td>스토리, 드라마</td>\n",
       "      <td>48</td>\n",
       "    </tr>\n",
       "    <tr>\n",
       "      <th>9</th>\n",
       "      <td>에피소드, 드라마</td>\n",
       "      <td>47</td>\n",
       "    </tr>\n",
       "  </tbody>\n",
       "</table>\n",
       "</div>"
      ],
      "text/plain": [
       "          장르  점수\n",
       "0    스토리, 액션  56\n",
       "1   스토리, 드라마  55\n",
       "2   스토리, 스포츠  54\n",
       "3   스토리, 드라마  53\n",
       "4   스토리, 시대극  52\n",
       "5   스토리, 스릴러  51\n",
       "6   스토리, 판타지  50\n",
       "7   스토리, 로맨스  49\n",
       "8   스토리, 드라마  48\n",
       "9  에피소드, 드라마  47"
      ]
     },
     "execution_count": 15,
     "metadata": {},
     "output_type": "execute_result"
    }
   ],
   "source": [
    "## 데이터프레임 병합\n",
    "result = pd.concat([df_G,df_S],axis=1)\n",
    "\n",
    "result.head(10)"
   ]
  },
  {
   "cell_type": "code",
   "execution_count": 54,
   "metadata": {
    "ExecuteTime": {
     "end_time": "2021-04-01T15:47:35.928080Z",
     "start_time": "2021-04-01T15:47:35.879965Z"
    }
   },
   "outputs": [],
   "source": [
    "## 장르별 점수 합\n",
    "result1 = pd.pivot_table(result, index = ['장르'], values = ['점수'], aggfunc='sum')\n",
    "Result1 = result1.sort_values(by = '점수', ascending= False)\n",
    "\n",
    "## 장르별 작품 개수\n",
    "result2 = pd.pivot_table(result, index = ['장르'], values = ['점수'], aggfunc='count')\n",
    "Result2 = result2.sort_values(by = '점수', ascending= False)\n",
    "\n",
    "Result = pd.merge(Result1, Result2, left_index=True, right_index=True, how='left')"
   ]
  },
  {
   "cell_type": "code",
   "execution_count": 55,
   "metadata": {
    "ExecuteTime": {
     "end_time": "2021-04-01T15:47:37.613330Z",
     "start_time": "2021-04-01T15:47:37.580315Z"
    }
   },
   "outputs": [
    {
     "data": {
      "text/html": [
       "<div>\n",
       "<style scoped>\n",
       "    .dataframe tbody tr th:only-of-type {\n",
       "        vertical-align: middle;\n",
       "    }\n",
       "\n",
       "    .dataframe tbody tr th {\n",
       "        vertical-align: top;\n",
       "    }\n",
       "\n",
       "    .dataframe thead th {\n",
       "        text-align: right;\n",
       "    }\n",
       "</style>\n",
       "<table border=\"1\" class=\"dataframe\">\n",
       "  <thead>\n",
       "    <tr style=\"text-align: right;\">\n",
       "      <th></th>\n",
       "      <th>평균 점수</th>\n",
       "    </tr>\n",
       "    <tr>\n",
       "      <th>장르</th>\n",
       "      <th></th>\n",
       "    </tr>\n",
       "  </thead>\n",
       "  <tbody>\n",
       "    <tr>\n",
       "      <th>옴니버스, 로맨스</th>\n",
       "      <td>51</td>\n",
       "    </tr>\n",
       "    <tr>\n",
       "      <th>에피소드, 시대극</th>\n",
       "      <td>46</td>\n",
       "    </tr>\n",
       "    <tr>\n",
       "      <th>에피소드, 판타지</th>\n",
       "      <td>45</td>\n",
       "    </tr>\n",
       "    <tr>\n",
       "      <th>옴니버스, 일상</th>\n",
       "      <td>41</td>\n",
       "    </tr>\n",
       "    <tr>\n",
       "      <th>에피소드, 일상</th>\n",
       "      <td>41</td>\n",
       "    </tr>\n",
       "    <tr>\n",
       "      <th>에피소드, 액션</th>\n",
       "      <td>39</td>\n",
       "    </tr>\n",
       "    <tr>\n",
       "      <th>옴니버스, 스릴러</th>\n",
       "      <td>36</td>\n",
       "    </tr>\n",
       "    <tr>\n",
       "      <th>옴니버스, 판타지</th>\n",
       "      <td>35</td>\n",
       "    </tr>\n",
       "    <tr>\n",
       "      <th>에피소드, 개그</th>\n",
       "      <td>35</td>\n",
       "    </tr>\n",
       "    <tr>\n",
       "      <th>스토리, 액션</th>\n",
       "      <td>35</td>\n",
       "    </tr>\n",
       "    <tr>\n",
       "      <th>스토리, 스포츠</th>\n",
       "      <td>31</td>\n",
       "    </tr>\n",
       "    <tr>\n",
       "      <th>에피소드, 드라마</th>\n",
       "      <td>28</td>\n",
       "    </tr>\n",
       "    <tr>\n",
       "      <th>스토리, 시대극</th>\n",
       "      <td>27</td>\n",
       "    </tr>\n",
       "    <tr>\n",
       "      <th>스토리, 드라마</th>\n",
       "      <td>27</td>\n",
       "    </tr>\n",
       "    <tr>\n",
       "      <th>스토리, 판타지</th>\n",
       "      <td>27</td>\n",
       "    </tr>\n",
       "    <tr>\n",
       "      <th>스토리, 로맨스</th>\n",
       "      <td>25</td>\n",
       "    </tr>\n",
       "    <tr>\n",
       "      <th>스토리, 스릴러</th>\n",
       "      <td>24</td>\n",
       "    </tr>\n",
       "    <tr>\n",
       "      <th>에피소드, 로맨스</th>\n",
       "      <td>22</td>\n",
       "    </tr>\n",
       "    <tr>\n",
       "      <th>스토리, 개그</th>\n",
       "      <td>20</td>\n",
       "    </tr>\n",
       "    <tr>\n",
       "      <th>옴니버스, 드라마</th>\n",
       "      <td>19</td>\n",
       "    </tr>\n",
       "    <tr>\n",
       "      <th>옴니버스, 개그</th>\n",
       "      <td>19</td>\n",
       "    </tr>\n",
       "    <tr>\n",
       "      <th>스토리, 감성</th>\n",
       "      <td>14</td>\n",
       "    </tr>\n",
       "    <tr>\n",
       "      <th>에피소드, 스릴러</th>\n",
       "      <td>5</td>\n",
       "    </tr>\n",
       "  </tbody>\n",
       "</table>\n",
       "</div>"
      ],
      "text/plain": [
       "           평균 점수\n",
       "장르              \n",
       "옴니버스, 로맨스     51\n",
       "에피소드, 시대극     46\n",
       "에피소드, 판타지     45\n",
       "옴니버스, 일상      41\n",
       "에피소드, 일상      41\n",
       "에피소드, 액션      39\n",
       "옴니버스, 스릴러     36\n",
       "옴니버스, 판타지     35\n",
       "에피소드, 개그      35\n",
       "스토리, 액션       35\n",
       "스토리, 스포츠      31\n",
       "에피소드, 드라마     28\n",
       "스토리, 시대극      27\n",
       "스토리, 드라마      27\n",
       "스토리, 판타지      27\n",
       "스토리, 로맨스      25\n",
       "스토리, 스릴러      24\n",
       "에피소드, 로맨스     22\n",
       "스토리, 개그       20\n",
       "옴니버스, 드라마     19\n",
       "옴니버스, 개그      19\n",
       "스토리, 감성       14\n",
       "에피소드, 스릴러      5"
      ]
     },
     "execution_count": 55,
     "metadata": {},
     "output_type": "execute_result"
    }
   ],
   "source": [
    "## 평균 점수 칼럼 생성\n",
    "def mean_score (data):    \n",
    "    Result['평균 점수'] = Result['점수_x'] / Result['점수_y'] \n",
    "    return Result\n",
    "\n",
    "Result = mean_score(Result)\n",
    "Result = Result.drop(['점수_x','점수_y'],axis=1)\n",
    "Result = Result.astype({'평균 점수': 'int'})\n",
    "Result = Result.sort_values(by = '평균 점수', ascending= False)\n",
    "\n",
    "Result"
   ]
  },
  {
   "cell_type": "code",
   "execution_count": 50,
   "metadata": {
    "ExecuteTime": {
     "end_time": "2021-04-01T15:47:02.455809Z",
     "start_time": "2021-04-01T15:47:02.433849Z"
    }
   },
   "outputs": [],
   "source": [
    "import matplotlib.pyplot as plt\n",
    "import seaborn as sns\n",
    "import platform \n",
    "from matplotlib import font_manager, rc\n",
    "\n",
    "## 한글 폰트 사용\n",
    "if platform.system() == 'Windows': \n",
    "    path = 'c:/Windows/Fonts/malgun.ttf'\n",
    "    font_name = font_manager.FontProperties(fname=path).get_name()\n",
    "    rc('font', family=font_name)\n",
    "elif platform.system() == 'Darwin':\n",
    "    rc('font', family='AppleGothic')"
   ]
  },
  {
   "cell_type": "code",
   "execution_count": 57,
   "metadata": {
    "ExecuteTime": {
     "end_time": "2021-04-01T15:47:54.192124Z",
     "start_time": "2021-04-01T15:47:52.417208Z"
    }
   },
   "outputs": [
    {
     "data": {
      "text/plain": [
       "<matplotlib.axes._subplots.AxesSubplot at 0x14347898128>"
      ]
     },
     "execution_count": 57,
     "metadata": {},
     "output_type": "execute_result"
    },
    {
     "data": {
      "image/png": "[encoded data removed]",
      "text/plain": [
       "<Figure size 360x1080 with 1 Axes>"
      ]
     },
     "metadata": {
      "needs_background": "light"
     },
     "output_type": "display_data"
    }
   ],
   "source": [
    "## 장르별 평균 점수 시각화\n",
    "Result = Result.reset_index()  #'장르' 인덱스 -> 컬럼\n",
    "\n",
    "plt.figure(figsize=(5, 15))\n",
    "sns.barplot(Result['평균 점수'], Result['장르'])"
   ]
  }
 ],
 "metadata": {
  "hide_input": false,
  "kernelspec": {
   "display_name": "Python 3",
   "language": "python",
   "name": "python3"
  },
  "language_info": {
   "codemirror_mode": {
    "name": "ipython",
    "version": 3
   },
   "file_extension": ".py",
   "mimetype": "text/x-python",
   "name": "python",
   "nbconvert_exporter": "python",
   "pygments_lexer": "ipython3",
   "version": "3.7.3"
  },
  "toc": {
   "base_numbering": 1,
   "nav_menu": {},
   "number_sections": true,
   "sideBar": true,
   "skip_h1_title": false,
   "title_cell": "Table of Contents",
   "title_sidebar": "Contents",
   "toc_cell": false,
   "toc_position": {},
   "toc_section_display": true,
   "toc_window_display": false
  },
  "varInspector": {
   "cols": {
    "lenName": 16,
    "lenType": 16,
    "lenVar": 40
   },
   "kernels_config": {
    "python": {
     "delete_cmd_postfix": "",
     "delete_cmd_prefix": "del ",
     "library": "var_list.py",
     "varRefreshCmd": "print(var_dic_list())"
    },
    "r": {
     "delete_cmd_postfix": ") ",
     "delete_cmd_prefix": "rm(",
     "library": "var_list.r",
     "varRefreshCmd": "cat(var_dic_list()) "
    }
   },
   "types_to_exclude": [
    "module",
    "function",
    "builtin_function_or_method",
    "instance",
    "_Feature"
   ],
   "window_display": false
  }
 },
 "nbformat": 4,
 "nbformat_minor": 2
}
