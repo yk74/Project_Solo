{
  "nbformat": 4,
  "nbformat_minor": 0,
  "metadata": {
    "colab": {
      "name": "앱 리뷰 분석.ipynb",
      "provenance": [],
      "authorship_tag": "ABX9TyNBPK4BY+9z2k0zMS2XYXPG"
    },
    "kernelspec": {
      "name": "python3",
      "display_name": "Python 3"
    },
    "language_info": {
      "name": "python"
    }
  },
  "cells": [
    {
      "cell_type": "code",
      "source": [
        "# !pip install selenium\n",
        "# !apt-get update\n",
        "# !apt install chromium-chromedriver\n",
        "# !cp /usr/lib/chromium-browser/chromedriver /usr/bin"
      ],
      "metadata": {
        "id": "S_nAsd3eSOQP"
      },
      "execution_count": 19,
      "outputs": []
    },
    {
      "cell_type": "code",
      "source": [
        "import pandas as pd\n",
        "import time\n",
        "from selenium import webdriver\n",
        "# from bs4 import BeautifulSoup\n",
        "\n",
        "# pd.set_option('display.max_rows', 100)"
      ],
      "metadata": {
        "id": "O2EozjnwGZb-"
      },
      "execution_count": 18,
      "outputs": []
    },
    {
      "cell_type": "code",
      "source": [
        "driver.find_element_by_xpath('//*[@id=\"fcxH9b\"]/div[4]/c-wiz/div/div[2]/div/div/main/div/div[1]/div[6]/div/span/span').click()"
      ],
      "metadata": {
        "id": "l29f4lUpJmB1"
      },
      "execution_count": null,
      "outputs": []
    }
  ]
}